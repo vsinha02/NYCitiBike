{
 "cells": [
  {
   "cell_type": "code",
   "execution_count": null,
   "id": "d85dafb8-bc32-446d-ab11-18c07d3e0daf",
   "metadata": {},
   "outputs": [],
   "source": [
    "import pandas as pd\n",
    "import numpy as np\n",
    "from plotly.subplots import make_subplots\n",
    "import plotly.graph_objects as go\n",
    "import matplotlib.pyplot as plt\n",
    "from datetime import datetime as dt \n"
   ]
  },
  {
   "cell_type": "code",
   "execution_count": null,
   "id": "20f53fab-1795-4bf1-b3bf-62a3d25f6d50",
   "metadata": {},
   "outputs": [],
   "source": [
    "# Reading the final dataset NYbike_trips_Q3.csv\n",
    "\n",
    "filepath = '/Users/vineetasinha/Documents/workspace/NYCitiBike/BikeTripsVisualizations_Q3.csv'\n",
    "df_NYTrips_Q3 = pd.read_csv(filepath)\n"
   ]
  },
  {
   "cell_type": "code",
   "execution_count": null,
   "id": "963ab946-265a-44b8-910b-7bc17204b283",
   "metadata": {},
   "outputs": [],
   "source": [
    "df_NYTrips_Q3.dtypes\n"
   ]
  },
  {
   "cell_type": "code",
   "execution_count": null,
   "id": "475ef4ad-32ec-4aa6-9779-131eebf40baa",
   "metadata": {},
   "outputs": [],
   "source": [
    "# Create a month column\n",
    "df_NYTrips_Q3['date'] = pd.to_datetime(df_NYTrips_Q3['Date'], format = '%Y-%m-%d')\n",
    "df_NYTrips_Q3['month'] = df_NYTrips_Q3['date'].dt.month\n",
    "df_NYTrips_Q3['month'] = df_NYTrips_Q3['month'].astype('int')\n"
   ]
  },
  {
   "cell_type": "code",
   "execution_count": null,
   "id": "83a2ddfc-b999-4bd5-9d11-cb90388a1e2d",
   "metadata": {},
   "outputs": [],
   "source": [
    "df_NYTrips_Q3.head(2)"
   ]
  },
  {
   "cell_type": "code",
   "execution_count": null,
   "id": "19962772-9fb0-4711-bd59-5199decdf3f2",
   "metadata": {},
   "outputs": [],
   "source": [
    "df_NYTrips_Q3['Season'] = [\n",
    "    'Winter' if (month == 12 or 1 <= month <= 2)  # Corrected for Winter months\n",
    "    else 'Spring' if 3 <= month <= 5\n",
    "    else 'Summer' if 6 <= month <= 8\n",
    "    else 'Fall' \n",
    "    for month in df_NYTrips_Q3['month']\n",
    "]\n"
   ]
  },
  {
   "cell_type": "code",
   "execution_count": null,
   "id": "7490c8e4-b815-407c-8e96-fe9de9f63d99",
   "metadata": {},
   "outputs": [],
   "source": [
    "df_NYTrips_Q3.head(2)"
   ]
  },
  {
   "cell_type": "code",
   "execution_count": null,
   "id": "e66642bf-72ba-4696-a37c-49492508f70a",
   "metadata": {},
   "outputs": [],
   "source": [
    "df_NYTrips_Q3.dtypes\n",
    "\n"
   ]
  },
  {
   "cell_type": "code",
   "execution_count": null,
   "id": "8b101faa-4f7a-4269-978a-f6afabeb39c2",
   "metadata": {},
   "outputs": [],
   "source": [
    "new_df_3 = df_NYTrips_Q3[['date', 'AvgTemp', 'bike_rides_daily']]\n",
    "new_df_3.to_csv('new_df3.csv')\n"
   ]
  },
  {
   "cell_type": "code",
   "execution_count": null,
   "id": "85dc215a-2c43-4f48-8cae-a5db8e56d710",
   "metadata": {},
   "outputs": [],
   "source": [
    "df_NYTrips_Q3['value'] = 1\n",
    "df_groupby_bar = df_NYTrips_Q3.groupby('start_station_name', as_index=False).agg({'value' : 'sum'})\n",
    "top_20_Q3 = df_groupby_bar.nlargest(20, 'value')\n",
    "top_20_Q3.dtypes"
   ]
  },
  {
   "cell_type": "code",
   "execution_count": null,
   "id": "92fab9b7-b0da-4fb9-97d1-d85885b8504a",
   "metadata": {},
   "outputs": [],
   "source": [
    "fig = go.Figure(go.Bar(x = top_20_Q3['start_station_name'], y = top_20_Q3['value']))"
   ]
  },
  {
   "cell_type": "code",
   "execution_count": null,
   "id": "df25d32d-fb89-47bf-aa76-f10703e6ea7f",
   "metadata": {},
   "outputs": [],
   "source": [
    "fig.show()"
   ]
  },
  {
   "cell_type": "code",
   "execution_count": null,
   "id": "26b759da-b1b8-4291-961b-4e78a4df97c2",
   "metadata": {},
   "outputs": [],
   "source": [
    "fig = go.Figure(go.Bar(x = top_20_Q3['start_station_name'], y = top_20_Q3['value'], marker = {'color': top_20_Q3['value'],'colorscale': 'Blues'}))\n",
    "fig.show()"
   ]
  },
  {
   "cell_type": "code",
   "execution_count": null,
   "id": "95d2889e-2ac0-4fc4-9e05-bd672b6e233b",
   "metadata": {
    "scrolled": true
   },
   "outputs": [],
   "source": [
    "fig.update_layout(\n",
    "     title = 'Top 20 most popular bike stations in New York',\n",
    "     xaxis_title = 'Start stations',\n",
    "     yaxis_title ='Sum of trips',\n",
    "     width = 900, height = 600)"
   ]
  },
  {
   "cell_type": "code",
   "execution_count": null,
   "id": "a071236c-276d-4d48-9ea4-a58fa4bc6e5f",
   "metadata": {},
   "outputs": [],
   "source": [
    "top_20_Q3.to_csv('top20_Q3.csv')\n"
   ]
  },
  {
   "cell_type": "code",
   "execution_count": null,
   "id": "4646514b-eafd-4b79-ae83-563923aff2fd",
   "metadata": {},
   "outputs": [],
   "source": [
    "fig = make_subplots(specs = [[{\"secondary_y\": True}]])\n",
    "\n",
    "make_subplots()\n",
    "fig.add_trace(\n",
    " go.Scatter(x = new_df_3['date'], y = new_df_3['bike_rides_daily'], name = 'Daily bike rides', \n",
    " marker={'color': new_df_3['bike_rides_daily'],'color': 'blue'}),\n",
    " secondary_y = False)\n",
    "fig.add_trace(\n",
    " go.Scatter(x=new_df_3['date'], y = new_df_3['AvgTemp'], name = 'Daily temperature', \n",
    " marker={'color': new_df_3['AvgTemp'],'color': 'red'}),\n",
    " secondary_y=True)"
   ]
  },
  {
   "cell_type": "code",
   "execution_count": null,
   "id": "6b305b08-44b0-41b4-a7b9-6e3a70afa35b",
   "metadata": {},
   "outputs": [],
   "source": []
  }
 ],
 "metadata": {
  "kernelspec": {
   "display_name": "Python [conda env:bike_env]",
   "language": "python",
   "name": "conda-env-bike_env-py"
  },
  "language_info": {
   "codemirror_mode": {
    "name": "ipython",
    "version": 3
   },
   "file_extension": ".py",
   "mimetype": "text/x-python",
   "name": "python",
   "nbconvert_exporter": "python",
   "pygments_lexer": "ipython3",
   "version": "3.12.5"
  }
 },
 "nbformat": 4,
 "nbformat_minor": 5
}
